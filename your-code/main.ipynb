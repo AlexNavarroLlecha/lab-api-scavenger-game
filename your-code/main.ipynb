{
 "cells": [
  {
   "cell_type": "markdown",
   "metadata": {},
   "source": [
    "# API Scavenger Game\n",
    "\n",
    "## Challenge 1: Fork Languages\n",
    "\n",
    "You will find out how many programming languages are used among all the forks created from the main lab repo of your bootcamp."
   ]
  },
  {
   "cell_type": "code",
   "execution_count": 27,
   "metadata": {},
   "outputs": [],
   "source": [
    "# import libraries here\n",
    "import requests\n",
    "import pandas as pd\n",
    "import json\n",
    "from setting import credential"
   ]
  },
  {
   "cell_type": "markdown",
   "metadata": {},
   "source": [
    "Assuming the main lab repo is ironhack-datalabs/madrid-oct-2018, you will:\n",
    "\n",
    "#### 1. Obtain the full list of forks created from the main lab repo via Github API."
   ]
  },
  {
   "cell_type": "markdown",
   "metadata": {},
   "source": [
    "To list forks, we can use the GET method. As explained in the GitHub API documentation, we need to make the request to: GET /repos/:owner/:repo/forks."
   ]
  },
  {
   "cell_type": "code",
   "execution_count": 28,
   "metadata": {},
   "outputs": [
    {
     "name": "stdout",
     "output_type": "stream",
     "text": [
      "{\n",
      "      \"id\": 220066216,\n",
      "      \"node_id\": \"MDEwOlJlcG9zaXRvcnkyMjAwNjYyMTY=\",\n",
      "      \"name\": \"mad-oct-2018\",\n",
      "      \"full_name\": \"ToniPons97/mad-oct-2018\",\n",
      "      \"private\": false,\n",
      "      \"owner\": {\n",
      "            \"login\": \"ToniPons97\",\n",
      "            \"id\": 45130294,\n",
      "            \"node_id\": \"MDQ6VXNlcjQ1MTMwMjk0\",\n",
      "            \"avatar_url\": \"https://avatars3.githubusercontent.com/u/45130294?v=4\",\n",
      "            \"gravatar_id\": \"\",\n",
      "            \"url\": \"https://api.github.com/users/ToniPons97\",\n",
      "            \"html_url\": \"https://github.com/ToniPons97\",\n",
      "            \"followers_url\": \"https://api.github.com/users/ToniPons97/followers\",\n",
      "            \"following_url\": \"https://api.github.com/users/ToniPons97/following{/other_user}\",\n",
      "            \"gists_url\": \"https://api.github.com/users/ToniPons97/gists{/gist_id}\",\n",
      "            \"starred_url\": \"https://api.github.com/users/ToniPons97/starred{/owner}{/repo}\",\n",
      "            \"subscriptions_url\": \"https://api.github.com/users/ToniPons97/subscriptions\",\n",
      "            \"organizations_url\": \"https://api.github.com/users/ToniPons97/orgs\",\n",
      "            \"repos_url\": \"https://api.github.com/users/ToniPons97/repos\",\n",
      "            \"events_url\": \"https://api.github.com/users/ToniPons97/events{/privacy}\",\n",
      "            \"received_events_url\": \"https://api.github.com/users/ToniPons97/received_events\",\n",
      "            \"type\": \"User\",\n",
      "            \"site_admin\": false\n",
      "      },\n",
      "      \"html_url\": \"https://github.com/ToniPons97/mad-oct-2018\",\n",
      "      \"description\": \"Student labs for Ironhack data analytics bootcamp\",\n",
      "      \"fork\": true,\n",
      "      \"url\": \"https://api.github.com/repos/ToniPons97/mad-oct-2018\",\n",
      "      \"forks_url\": \"https://api.github.com/repos/ToniPons97/mad-oct-2018/forks\",\n",
      "      \"keys_url\": \"https://api.github.com/repos/ToniPons97/mad-oct-2018/keys{/key_id}\",\n",
      "      \"collaborators_url\": \"https://api.github.com/repos/ToniPons97/mad-oct-2018/collaborators{/collaborator}\",\n",
      "      \"teams_url\": \"https://api.github.com/repos/ToniPons97/mad-oct-2018/teams\",\n",
      "      \"hooks_url\": \"https://api.github.com/repos/ToniPons97/mad-oct-2018/hooks\",\n",
      "      \"issue_events_url\": \"https://api.github.com/repos/ToniPons97/mad-oct-2018/issues/events{/number}\",\n",
      "      \"events_url\": \"https://api.github.com/repos/ToniPons97/mad-oct-2018/events\",\n",
      "      \"assignees_url\": \"https://api.github.com/repos/ToniPons97/mad-oct-2018/assignees{/user}\",\n",
      "      \"branches_url\": \"https://api.github.com/repos/ToniPons97/mad-oct-2018/branches{/branch}\",\n",
      "      \"tags_url\": \"https://api.github.com/repos/ToniPons97/mad-oct-2018/tags\",\n",
      "      \"blobs_url\": \"https://api.github.com/repos/ToniPons97/mad-oct-2018/git/blobs{/sha}\",\n",
      "      \"git_tags_url\": \"https://api.github.com/repos/ToniPons97/mad-oct-2018/git/tags{/sha}\",\n",
      "      \"git_refs_url\": \"https://api.github.com/repos/ToniPons97/mad-oct-2018/git/refs{/sha}\",\n",
      "      \"trees_url\": \"https://api.github.com/repos/ToniPons97/mad-oct-2018/git/trees{/sha}\",\n",
      "      \"statuses_url\": \"https://api.github.com/repos/ToniPons97/mad-oct-2018/statuses/{sha}\",\n",
      "      \"languages_url\": \"https://api.github.com/repos/ToniPons97/mad-oct-2018/languages\",\n",
      "      \"stargazers_url\": \"https://api.github.com/repos/ToniPons97/mad-oct-2018/stargazers\",\n",
      "      \"contributors_url\": \"https://api.github.com/repos/ToniPons97/mad-oct-2018/contributors\",\n",
      "      \"subscribers_url\": \"https://api.github.com/repos/ToniPons97/mad-oct-2018/subscribers\",\n",
      "      \"subscription_url\": \"https://api.github.com/repos/ToniPons97/mad-oct-2018/subscription\",\n",
      "      \"commits_url\": \"https://api.github.com/repos/ToniPons97/mad-oct-2018/commits{/sha}\",\n",
      "      \"git_commits_url\": \"https://api.github.com/repos/ToniPons97/mad-oct-2018/git/commits{/sha}\",\n",
      "      \"comments_url\": \"https://api.github.com/repos/ToniPons97/mad-oct-2018/comments{/number}\",\n",
      "      \"issue_comment_url\": \"https://api.github.com/repos/ToniPons97/mad-oct-2018/issues/comments{/number}\",\n",
      "      \"contents_url\": \"https://api.github.com/repos/ToniPons97/mad-oct-2018/contents/{+path}\",\n",
      "      \"compare_url\": \"https://api.github.com/repos/ToniPons97/mad-oct-2018/compare/{base}...{head}\",\n",
      "      \"merges_url\": \"https://api.github.com/repos/ToniPons97/mad-oct-2018/merges\",\n",
      "      \"archive_url\": \"https://api.github.com/repos/ToniPons97/mad-oct-2018/{archive_format}{/ref}\",\n",
      "      \"downloads_url\": \"https://api.github.com/repos/ToniPons97/mad-oct-2018/downloads\",\n",
      "      \"issues_url\": \"https://api.github.com/repos/ToniPons97/mad-oct-2018/issues{/number}\",\n",
      "      \"pulls_url\": \"https://api.github.com/repos/ToniPons97/mad-oct-2018/pulls{/number}\",\n",
      "      \"milestones_url\": \"https://api.github.com/repos/ToniPons97/mad-oct-2018/milestones{/number}\",\n",
      "      \"notifications_url\": \"https://api.github.com/repos/ToniPons97/mad-oct-2018/notifications{?since,all,participating}\",\n",
      "      \"labels_url\": \"https://api.github.com/repos/ToniPons97/mad-oct-2018/labels{/name}\",\n",
      "      \"releases_url\": \"https://api.github.com/repos/ToniPons97/mad-oct-2018/releases{/id}\",\n",
      "      \"deployments_url\": \"https://api.github.com/repos/ToniPons97/mad-oct-2018/deployments\",\n",
      "      \"created_at\": \"2019-11-06T18:44:51Z\",\n",
      "      \"updated_at\": \"2019-11-06T18:44:52Z\",\n",
      "      \"pushed_at\": \"2019-08-19T11:16:55Z\",\n",
      "      \"git_url\": \"git://github.com/ToniPons97/mad-oct-2018.git\",\n",
      "      \"ssh_url\": \"git@github.com:ToniPons97/mad-oct-2018.git\",\n",
      "      \"clone_url\": \"https://github.com/ToniPons97/mad-oct-2018.git\",\n",
      "      \"svn_url\": \"https://github.com/ToniPons97/mad-oct-2018\",\n",
      "      \"homepage\": \"\",\n",
      "      \"size\": 116995,\n",
      "      \"stargazers_count\": 0,\n",
      "      \"watchers_count\": 0,\n",
      "      \"language\": null,\n",
      "      \"has_issues\": false,\n",
      "      \"has_projects\": true,\n",
      "      \"has_downloads\": true,\n",
      "      \"has_wiki\": true,\n",
      "      \"has_pages\": false,\n",
      "      \"forks_count\": 0,\n",
      "      \"mirror_url\": null,\n",
      "      \"archived\": false,\n",
      "      \"disabled\": false,\n",
      "      \"open_issues_count\": 0,\n",
      "      \"license\": {\n",
      "            \"key\": \"unlicense\",\n",
      "            \"name\": \"The Unlicense\",\n",
      "            \"spdx_id\": \"Unlicense\",\n",
      "            \"url\": \"https://api.github.com/licenses/unlicense\",\n",
      "            \"node_id\": \"MDc6TGljZW5zZTE1\"\n",
      "      },\n",
      "      \"forks\": 0,\n",
      "      \"open_issues\": 0,\n",
      "      \"watchers\": 0,\n",
      "      \"default_branch\": \"master\",\n",
      "      \"permissions\": {\n",
      "            \"admin\": false,\n",
      "            \"push\": false,\n",
      "            \"pull\": true\n",
      "      }\n",
      "}\n"
     ]
    }
   ],
   "source": [
    "# your code here\n",
    "url = 'http://api.github.com/repos/ironhack-datalabs/madrid-oct-2018/forks'\n",
    "\n",
    "response = requests.get(url, auth = ('alex.navarro.llecha',credential.my_key))\n",
    "git_hub_fork = response.json()\n",
    "\n",
    "print(json.dumps(git_hub_fork[0],indent=6))"
   ]
  },
  {
   "cell_type": "code",
   "execution_count": null,
   "metadata": {},
   "outputs": [],
   "source": []
  },
  {
   "cell_type": "code",
   "execution_count": null,
   "metadata": {},
   "outputs": [],
   "source": []
  },
  {
   "cell_type": "markdown",
   "metadata": {},
   "source": [
    "#### 2. Loop the JSON response to find out the language attribute of each fork. Use an array to store the language attributes of each fork.\n",
    "Hint: Each language should appear only once in your array.\n",
    "Print the language array. It should be something like: [\"Python\", \"Jupyter Notebook\", \"HTML\"]"
   ]
  },
  {
   "cell_type": "code",
   "execution_count": 21,
   "metadata": {},
   "outputs": [
    {
     "data": {
      "text/plain": [
       "{'HTML', 'Jupyter Notebook', None, 'Python'}"
      ]
     },
     "execution_count": 21,
     "metadata": {},
     "output_type": "execute_result"
    }
   ],
   "source": [
    "# your code here\n",
    "language =  [\"Python\", \"Jupyter Notebook\", \"HTML\"]\n",
    "list=[]\n",
    "for x in git_hub_fork:\n",
    "    list.append(x['language'])\n",
    "\n",
    "languages = set(list)\n",
    "languages \n",
    "\n",
    "\n"
   ]
  },
  {
   "cell_type": "markdown",
   "metadata": {},
   "source": [
    "## Challenge 2: Count Commits\n",
    "Count how many commits were made in the month of october of 2018.\n",
    "#### 1. Obtain all the commits made in October 2018 via API, which is a JSON array that contains multiple commit objects."
   ]
  },
  {
   "cell_type": "code",
   "execution_count": 29,
   "metadata": {},
   "outputs": [],
   "source": [
    "# your code here\n",
    "url = 'http://api.github.com/repos/ironhack-datalabs/madrid-oct-2018/commits'\n",
    "\n",
    "response = requests.get(url, auth = ('alex.navarro.llecha',credential.my_key))\n",
    "git_hub_commits = response.json()"
   ]
  },
  {
   "cell_type": "markdown",
   "metadata": {},
   "source": [
    "#### 2. Count how many commit objects are contained in the array."
   ]
  },
  {
   "cell_type": "code",
   "execution_count": 25,
   "metadata": {},
   "outputs": [
    {
     "data": {
      "text/plain": [
       "30"
      ]
     },
     "execution_count": 25,
     "metadata": {},
     "output_type": "execute_result"
    }
   ],
   "source": [
    "# your code here\n",
    "len(git_hub_commits)"
   ]
  },
  {
   "cell_type": "markdown",
   "metadata": {},
   "source": [
    "## Challenge 3: Hidden Cold Joke\n",
    "\n",
    "Using Python, call Github API to find out the cold joke contained in the 24 secret files in the following repo:\n",
    "\n",
    "https://github.com/ironhack-datalabs/scavenger\n",
    "\n",
    "The filenames of the secret files contain .scavengerhunt and they are scattered in different directories of this repo. The secret files are named from .0001.scavengerhunt to .0024.scavengerhunt. They are scattered randomly throughout this repo. You need to search for these files by calling the Github API, not searching the local files on your computer.\n",
    "\n",
    "#### 1. Find the secret files."
   ]
  },
  {
   "cell_type": "code",
   "execution_count": 34,
   "metadata": {},
   "outputs": [
    {
     "data": {
      "text/plain": [
       "[{'name': '.0006.scavengerhunt',\n",
       "  'path': '15024/.0006.scavengerhunt',\n",
       "  'sha': '1c9064284a24b3486015eafdb391b141c27ada2b',\n",
       "  'size': 3,\n",
       "  'url': 'https://api.github.com/repos/ironhack-datalabs/scavenger/contents/15024/.0006.scavengerhunt?ref=master',\n",
       "  'html_url': 'https://github.com/ironhack-datalabs/scavenger/blob/master/15024/.0006.scavengerhunt',\n",
       "  'git_url': 'https://api.github.com/repos/ironhack-datalabs/scavenger/git/blobs/1c9064284a24b3486015eafdb391b141c27ada2b',\n",
       "  'download_url': 'https://raw.githubusercontent.com/ironhack-datalabs/scavenger/master/15024/.0006.scavengerhunt',\n",
       "  'type': 'file',\n",
       "  '_links': {'self': 'https://api.github.com/repos/ironhack-datalabs/scavenger/contents/15024/.0006.scavengerhunt?ref=master',\n",
       "   'git': 'https://api.github.com/repos/ironhack-datalabs/scavenger/git/blobs/1c9064284a24b3486015eafdb391b141c27ada2b',\n",
       "   'html': 'https://github.com/ironhack-datalabs/scavenger/blob/master/15024/.0006.scavengerhunt'}},\n",
       " {'name': '40',\n",
       "  'path': '15024/40',\n",
       "  'sha': 'e69de29bb2d1d6434b8b29ae775ad8c2e48c5391',\n",
       "  'size': 0,\n",
       "  'url': 'https://api.github.com/repos/ironhack-datalabs/scavenger/contents/15024/40?ref=master',\n",
       "  'html_url': 'https://github.com/ironhack-datalabs/scavenger/blob/master/15024/40',\n",
       "  'git_url': 'https://api.github.com/repos/ironhack-datalabs/scavenger/git/blobs/e69de29bb2d1d6434b8b29ae775ad8c2e48c5391',\n",
       "  'download_url': 'https://raw.githubusercontent.com/ironhack-datalabs/scavenger/master/15024/40',\n",
       "  'type': 'file',\n",
       "  '_links': {'self': 'https://api.github.com/repos/ironhack-datalabs/scavenger/contents/15024/40?ref=master',\n",
       "   'git': 'https://api.github.com/repos/ironhack-datalabs/scavenger/git/blobs/e69de29bb2d1d6434b8b29ae775ad8c2e48c5391',\n",
       "   'html': 'https://github.com/ironhack-datalabs/scavenger/blob/master/15024/40'}},\n",
       " {'name': '74',\n",
       "  'path': '15024/74',\n",
       "  'sha': 'e69de29bb2d1d6434b8b29ae775ad8c2e48c5391',\n",
       "  'size': 0,\n",
       "  'url': 'https://api.github.com/repos/ironhack-datalabs/scavenger/contents/15024/74?ref=master',\n",
       "  'html_url': 'https://github.com/ironhack-datalabs/scavenger/blob/master/15024/74',\n",
       "  'git_url': 'https://api.github.com/repos/ironhack-datalabs/scavenger/git/blobs/e69de29bb2d1d6434b8b29ae775ad8c2e48c5391',\n",
       "  'download_url': 'https://raw.githubusercontent.com/ironhack-datalabs/scavenger/master/15024/74',\n",
       "  'type': 'file',\n",
       "  '_links': {'self': 'https://api.github.com/repos/ironhack-datalabs/scavenger/contents/15024/74?ref=master',\n",
       "   'git': 'https://api.github.com/repos/ironhack-datalabs/scavenger/git/blobs/e69de29bb2d1d6434b8b29ae775ad8c2e48c5391',\n",
       "   'html': 'https://github.com/ironhack-datalabs/scavenger/blob/master/15024/74'}},\n",
       " {'name': '99',\n",
       "  'path': '15024/99',\n",
       "  'sha': 'e69de29bb2d1d6434b8b29ae775ad8c2e48c5391',\n",
       "  'size': 0,\n",
       "  'url': 'https://api.github.com/repos/ironhack-datalabs/scavenger/contents/15024/99?ref=master',\n",
       "  'html_url': 'https://github.com/ironhack-datalabs/scavenger/blob/master/15024/99',\n",
       "  'git_url': 'https://api.github.com/repos/ironhack-datalabs/scavenger/git/blobs/e69de29bb2d1d6434b8b29ae775ad8c2e48c5391',\n",
       "  'download_url': 'https://raw.githubusercontent.com/ironhack-datalabs/scavenger/master/15024/99',\n",
       "  'type': 'file',\n",
       "  '_links': {'self': 'https://api.github.com/repos/ironhack-datalabs/scavenger/contents/15024/99?ref=master',\n",
       "   'git': 'https://api.github.com/repos/ironhack-datalabs/scavenger/git/blobs/e69de29bb2d1d6434b8b29ae775ad8c2e48c5391',\n",
       "   'html': 'https://github.com/ironhack-datalabs/scavenger/blob/master/15024/99'}}]"
      ]
     },
     "execution_count": 34,
     "metadata": {},
     "output_type": "execute_result"
    }
   ],
   "source": [
    "# your code here\n",
    "url = 'http://api.github.com/repos/ironhack-datalabs/scavenger/contents/15024?ref=master'\n",
    "\n",
    "response = requests.get(url, auth = ('alex.navarro.llecha',credential.my_key))\n",
    "git_hub_hunt = response.json()\n",
    "git_hub_hunt"
   ]
  },
  {
   "cell_type": "markdown",
   "metadata": {},
   "source": [
    "#### 2.  Sort the filenames ascendingly."
   ]
  },
  {
   "cell_type": "code",
   "execution_count": null,
   "metadata": {},
   "outputs": [],
   "source": [
    "# your code here"
   ]
  },
  {
   "cell_type": "markdown",
   "metadata": {},
   "source": [
    "#### 3. Read the content of each secret files into an array of strings.\n",
    "Since the response is encoded, you will need to send the following information in the header of your request:\n",
    "````python\n",
    "headers = {'Accept': 'application/vnd.github.v3.raw'}\n",
    "````"
   ]
  },
  {
   "cell_type": "code",
   "execution_count": null,
   "metadata": {},
   "outputs": [],
   "source": [
    "# your code here"
   ]
  },
  {
   "cell_type": "markdown",
   "metadata": {},
   "source": [
    "#### 4. Concatenate the strings in the array separating each two with a whitespace."
   ]
  },
  {
   "cell_type": "code",
   "execution_count": null,
   "metadata": {},
   "outputs": [],
   "source": [
    "# your code here"
   ]
  },
  {
   "cell_type": "markdown",
   "metadata": {},
   "source": [
    "#### 5. Print out the joke."
   ]
  },
  {
   "cell_type": "code",
   "execution_count": null,
   "metadata": {},
   "outputs": [],
   "source": [
    "# your code here"
   ]
  }
 ],
 "metadata": {
  "kernelspec": {
   "display_name": "Python 3",
   "language": "python",
   "name": "python3"
  },
  "language_info": {
   "codemirror_mode": {
    "name": "ipython",
    "version": 3
   },
   "file_extension": ".py",
   "mimetype": "text/x-python",
   "name": "python",
   "nbconvert_exporter": "python",
   "pygments_lexer": "ipython3",
   "version": "3.7.4"
  }
 },
 "nbformat": 4,
 "nbformat_minor": 2
}
